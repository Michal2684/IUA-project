{
 "cells": [
  {
   "cell_type": "markdown",
   "id": "2b3e3052-651a-48c8-91e7-d6e2485837de",
   "metadata": {},
   "source": [
    "# Phase 1 – Exploratory Data Analysis\n",
    "\n"
   ]
  },
  {
   "cell_type": "markdown",
   "id": "b560e6b5-c36d-497f-a847-aad842eca44f",
   "metadata": {},
   "source": [
    "## 1.1 Basic Data Description and Characteristics\n"
   ]
  },
  {
   "cell_type": "markdown",
   "id": "daa7423c-8d5f-4bcf-971d-b105296c5f4e",
   "metadata": {},
   "source": [
    "# A)\n",
    "\n",
    "| **Dataset** | **Number of Records** | **Number of Attributes** | **Main collums** | **Description** |\n",
    "|--------------|------------------------|----------------------------|-----------------|-----------------|\n",
    "| **patient.csv** | 2,068 | 13 |username, registration, address, ssn, residence, birthdate, sex, age, bmi, height, weight, diagnosis, treatment| Contains patient information – demographic data (age, sex, address) and basic clinical characteristics (BMI, diagnosis, treatment). |\n",
    "| **station.csv** | 832 | 6 |station, latitude, revision, longitude, code, location|  Data about individual measurement stations – GPS coordinates, station code, name, and hardware revision. |\n",
    "| **observation.csv** | 12,046 | 23 | SpO₂, HR, PI, RR, EtCO₂, FiO₂, PRV, BP, Skin Temp, Core Temp, O₂Flow, pH, PaO₂, PaCO₂, Na⁺, K⁺, Ca²⁺, Hb, Hct, Glu, Lac, patient, station| Records of patient vital parameter measurements, including oxygen saturation (SpO₂), heart rate, respiratory rate, and other biochemical indicators. |"
   ]
  },
  {
   "cell_type": "markdown",
   "id": "4ed3e97c-362c-4a7d-95d0-213e1f182c06",
   "metadata": {},
   "source": [
    "In total, the patient.csv file contains 2,068 patients, all of whom have a valid station_ID referencing one of the 832 stations listed in station.csv (IDs range from 0 to 831).\n",
    "The observation.csv table includes 12,046 measurements, and 100 % of them can be matched to a corresponding station using identical latitude and longitude coordinates.\n",
    "This means that every patient and every observation can be correctly linked to its station."
   ]
  },
  {
   "cell_type": "code",
   "execution_count": null,
   "id": "d688cd94-18ec-4122-9eca-295d5df8cc9d",
   "metadata": {
    "jupyter": {
     "is_executing": true
    }
   },
   "outputs": [],
   "source": [
    "import pandas as pd\n",
    "import numpy as np\n",
    "import matplotlib.pyplot as plt\n",
    "plt.rcParams[\"font.family\"] = \"DejaVu Sans\" \n",
    "\n",
    "pd.set_option(\"display.max_columns\", 100)\n",
    "pd.set_option(\"display.width\", 120)"
   ]
  },
  {
   "cell_type": "code",
   "execution_count": null,
   "id": "fe7bf042-c968-4bec-bbb6-2fd2b654ecd0",
   "metadata": {},
   "outputs": [],
   "source": [
    "def read_any(path):\n",
    "    try:\n",
    "        return pd.read_csv(path, sep=None, engine=\"python\", encoding=\"utf-8-sig\")\n",
    "    except Exception:\n",
    "        return pd.read_csv(path, sep=\";\", engine=\"python\", encoding=\"utf-8-sig\")\n",
    "\n",
    "patient = read_any(\"data/patient.csv\")\n",
    "station = read_any(\"data/station.csv\")\n",
    "observation = read_any(\"data/observation.csv\")\n",
    "sensor_range = read_any(\"data/sensor_variable_range.csv\")\n",
    "\n",
    "(len(patient), len(station), len(observation), len(sensor_range))\n"
   ]
  },
  {
   "cell_type": "code",
   "execution_count": null,
   "id": "7df9fdda-0935-46d1-992a-f0d26ba4abc0",
   "metadata": {},
   "outputs": [],
   "source": [
    "def quick_profile(df, name):\n",
    "    print(f\"\\n================================= {name} =================================\")\n",
    "    print(f\"Rows: {len(df):,} | Columns: {len(df.columns)}\")\n",
    "    print(\"Columns:\", list(df.columns))\n",
    "    print(\"\\nData types:\")\n",
    "    display(df.dtypes.to_frame(\"dtype\"))\n",
    "    print(\"\\nMissing values per column (top 10):\")\n",
    "    display(df.isna().sum().sort_values(ascending=False).head(10))\n",
    "    print(\"\\nSample rows:\")\n",
    "    display(df.head(5))\n",
    "\n",
    "quick_profile(patient, \"patient\")\n",
    "quick_profile(station, \"station\")\n",
    "quick_profile(observation, \"observation\")\n",
    "quick_profile(sensor_range, \"sensor_variable_range\")\n"
   ]
  },
  {
   "cell_type": "code",
   "execution_count": null,
   "id": "0ca85a6e-d1cc-4615-b377-c3430d31a328",
   "metadata": {},
   "outputs": [],
   "source": [
    "if \"station_ID\" in patient.columns:\n",
    "    sid = pd.to_numeric(patient[\"station_ID\"], errors=\"coerce\").dropna().astype(int)\n",
    "    print(\"patient.station_ID range:\", int(sid.min()), \"to\", int(sid.max()), \"| station rows:\", len(station))\n",
    "\n",
    "if {\"latitude\",\"longitude\"}.issubset(observation.columns) and {\"latitude\",\"longitude\"}.issubset(station.columns):\n",
    "    st_pairs = set(zip(pd.to_numeric(station[\"latitude\"], errors=\"coerce\").round(6), pd.to_numeric(station[\"longitude\"], errors=\"coerce\").round(6)))\n",
    "    obs_pairs = list(zip(pd.to_numeric(observation[\"latitude\"], errors=\"coerce\").round(6), pd.to_numeric(observation[\"longitude\"], errors=\"coerce\").round(6)))\n",
    "    mapped = sum(1 for p in obs_pairs if p in st_pairs)\n",
    "    print(f\"Observations with a station coordinate match: {mapped:,} / {len(obs_pairs):,}\")\n"
   ]
  },
  {
   "cell_type": "markdown",
   "id": "19a3d021-d1d0-47cf-afe2-fe087209f72d",
   "metadata": {},
   "source": [
    "# B)\n",
    "\n",
    "We analyzed 12 numeric attributes from observation.csv (SpO₂, HR, PI, RR, EtCO₂, FiO₂, PRV, Skin Temperature, PVI, Hb level, SV, CO). For each attribute, we computed descriptive statistics and compared values against the prescribed ranges from sensor_variable_range.csv. Across 12,046 observations per attribute, there were no missing values and 0% of values fell outside the expected ranges. Min–max values for each attribute matched the stated bounds, indicating full compliance.\n",
    "Distributions were visualized with histograms and boxplots. The alignment with ranges suggests that the dataset is potentially normalized to those limits (evidence: min and max equal the exact bounds for all variables). "
   ]
  },
  {
   "cell_type": "code",
   "execution_count": null,
   "id": "4341ddae-e728-4dce-a04a-fa36b900857b",
   "metadata": {},
   "outputs": [],
   "source": [
    "candidates = [\"SpO₂\", \"HR\", \"PI\", \"RR\", \"EtCO₂\", \"FiO₂\", \"PRV\", \"Skin Temperature\", \"PVI\", \"Hb level\", \"SV\", \"CO\"]\n",
    "vars_to_check = [c for c in candidates if c in observation.columns]\n",
    "observation_subset = observation[vars_to_check]\n",
    "observation_subset"
   ]
  },
  {
   "cell_type": "code",
   "execution_count": null,
   "id": "8b9c6e6f-b962-4805-aa46-83cbbe0bd2a5",
   "metadata": {},
   "outputs": [],
   "source": [
    "obs_num = observation[vars_to_check].apply(pd.to_numeric, errors=\"coerce\")\n",
    "\n",
    "desc = obs_num.describe().T \n",
    "desc[\"missing\"] = obs_num.isna().sum()\n",
    "desc[\"non_null\"] = obs_num.notna().sum()\n",
    "desc\n"
   ]
  },
  {
   "cell_type": "code",
   "execution_count": null,
   "id": "5de52175-ea6b-4579-b4ca-94b9755bbcb1",
   "metadata": {},
   "outputs": [],
   "source": [
    "for col in vars_to_check:\n",
    "    s = pd.to_numeric(observation[col], errors=\"coerce\").dropna()\n",
    "    if s.empty:\n",
    "        print(f\"[{col}] No numeric data.\")\n",
    "        continue\n",
    "\n",
    "    plt.figure()\n",
    "    plt.hist(s, bins=30)\n",
    "    plt.title(f\"Histogram — {col}\")\n",
    "    plt.xlabel(\"Value\"); plt.ylabel(\"Frequency\")\n",
    "    plt.show()\n",
    "\n",
    "    plt.figure()\n",
    "    plt.boxplot(s, vert=True)\n",
    "    plt.title(f\"Boxplot — {col}\")\n",
    "    plt.ylabel(\"Value\")\n",
    "    plt.show()\n"
   ]
  },
  {
   "cell_type": "code",
   "execution_count": null,
   "id": "8c5eae7d-ab4b-4836-ae1c-6b3af3997bc2",
   "metadata": {},
   "outputs": [],
   "source": [
    "import re\n",
    "\n",
    "def check_ranges(row):\n",
    "    var = row['Variable']\n",
    "    rng = row['Value Range']\n",
    "\n",
    "    if not isinstance(var, str) or var not in obs_num.columns or not isinstance(rng, str):\n",
    "        return None\n",
    "\n",
    "    m = re.search(r'(-?\\d+(?:\\.\\d+)?)\\s*[-–—]\\s*(-?\\d+(?:\\.\\d+)?)', rng)\n",
    "    if not m:\n",
    "        return None\n",
    "\n",
    "    lo, hi = float(m.group(1)), float(m.group(2))\n",
    "\n",
    "    s = obs_num[var].dropna()\n",
    "    if s.empty:\n",
    "        return None\n",
    "\n",
    "    below = int((s < lo).sum())\n",
    "    above = int((s > hi).sum())\n",
    "    total = int(s.size)\n",
    "    return {\n",
    "        'variable': var, 'expected_low': lo, 'expected_high': hi,\n",
    "        'values_checked': total, 'below_range': below, 'above_range': above,\n",
    "        'outside_%': round(100 * (below + above) / total, 2)\n",
    "    }\n",
    "\n",
    "results = sensor_range.apply(check_ranges, axis=1).dropna()\n",
    "pd.DataFrame(results.tolist()).sort_values('outside_%', ascending=False)\n"
   ]
  },
  {
   "cell_type": "markdown",
   "id": "60f34d0f-e258-49dc-aec5-2cfc7a5f7070",
   "metadata": {},
   "source": [
    "# C\n",
    "\n",
    "In the heatmap, besides predominantly weak correlations, there is a negative correlation between Skin Temperature and BP (Blood Pressure).\n",
    "This means that when the skin temperature increases, blood pressure tends to decrease.\n",
    "From a modeling perspective, it indicates that these two variables are not completely independent and may share a common underlying factor, such as the body’s thermoregulatory response.\n",
    "The heatmap also reveals a strong positive correlation around 0.7 between Oximetry and EtCO₂. Both variables describe related aspects of respiratory function, which explains their close relationship.\n",
    "They may carry overlapping information and should be treated as correlated predictors.\n"
   ]
  },
  {
   "cell_type": "code",
   "execution_count": null,
   "id": "a59a9148-0eb9-4f97-8aad-544f48d06d23",
   "metadata": {},
   "outputs": [],
   "source": [
    "import seaborn as sns\n",
    "import matplotlib.pyplot as plt\n",
    "import pandas as pd\n",
    "\n",
    "num_df = observation.select_dtypes(include=\"number\")\n",
    "\n",
    "corr = num_df.corr()\n",
    "\n",
    "corr_pairs = (\n",
    "    corr.unstack()\n",
    "    .reset_index()\n",
    "    .rename(columns={\"level_0\": \"Variable 1\", \"level_1\": \"Variable 2\", 0: \"r\"})\n",
    ")\n",
    "corr_pairs = corr_pairs[corr_pairs[\"Variable 1\"] < corr_pairs[\"Variable 2\"]]  \n",
    "corr_pairs[\"abs_r\"] = corr_pairs[\"r\"].abs()\n",
    "corr_pairs.sort_values(\"abs_r\", ascending=False).head(10)\n"
   ]
  },
  {
   "cell_type": "code",
   "execution_count": null,
   "id": "58fa4763-e01a-4388-89f5-21f6711a91f8",
   "metadata": {},
   "outputs": [],
   "source": [
    "plt.figure(figsize=(10, 8))\n",
    "sns.heatmap(corr, cmap=\"coolwarm\", annot=False)\n",
    "plt.title(\"Correlation heatmap of numeric attributes\")\n",
    "plt.show()\n"
   ]
  },
  {
   "cell_type": "markdown",
   "id": "402744e7-e96c-41e5-a2e3-b6d01327dcfd",
   "metadata": {},
   "source": [
    "# D\n",
    "The correlation analysis between the target variable SpO₂ and all numeric predictors shows that all correlation coefficients are very close to zero (|r| < 0.02).\n",
    "This indicates that no single variable has a strong linear relationship with SpO₂.\n",
    "The highest yet still weak positive correlations appear for EtCO₂ and Oximetry, while slightly negative relationships are observed for Respiratory effort, BP, and Hb level.\n",
    "From a modeling perspective, this suggests that SpO₂ depends on multiple factors in a non-linear manner, rather than being driven by a single strong predictor."
   ]
  },
  {
   "cell_type": "code",
   "execution_count": null,
   "id": "4cb90281-315f-46bb-a4e6-6981aba227f0",
   "metadata": {},
   "outputs": [],
   "source": [
    "target = \"SpO₂\"\n",
    "predictors = [v for v in num_df.columns if v != target]\n",
    "\n",
    "target_corr = num_df[predictors + [target]].corr()[target].drop(target).sort_values(ascending=False)\n",
    "target_corr\n"
   ]
  },
  {
   "cell_type": "code",
   "execution_count": null,
   "id": "981e1f39-e500-44a1-9456-566967b81534",
   "metadata": {},
   "outputs": [],
   "source": [
    "plt.figure(figsize=(10,4))\n",
    "target_corr.plot(kind=\"bar\", color=\"steelblue\")\n",
    "plt.title(\"Correlation of predictors with SpO₂ (target variable)\")\n",
    "plt.ylabel(\"Correlation coefficient (r)\")\n",
    "plt.show()\n"
   ]
  },
  {
   "cell_type": "markdown",
   "id": "db7d0f26-3abf-47c8-8518-455de45e6b53",
   "metadata": {},
   "source": [
    "# E\n",
    "\n",
    "**Are some attributes dependent on each other?**\n",
    "\n",
    "Most pairs of numerical attributes show weak linear correlations (the heatmap is mostly light blue).\n",
    "\n",
    "Notable exceptions:\n",
    "- Skin Temperature <-> BP: a negative correlation, meaning higher skin temperature is associated with lower blood pressure.\n",
    "- Oximetry <-> EtCO₂: a strong positive correlation around 0.7, as both describe aspects of respiratory function and may carry overlapping informations.\n",
    "\n",
    "There is no critical multicollinearity among all sensors, but certain pairs are related and should be handled carefully in modeling.\n",
    "\n",
    "**Which attributes does the predicted variable depend on? (SpO₂)**\n",
    "\n",
    "The correlations between SpO₂ and all other numeric predictors are very small.This indicates that no single strong linear predictor exists for SpO₂. Its value is likely influenced by multiple factors and non-linear relationships.\n",
    "\n",
    "**Is it necessary to combine records from multiple files?**\n",
    "\n",
    "Yes, merging the datasets increases the information content and context for analysis:\n",
    "- observation – contains the primary physiological measurements.\n",
    "- station – adds contextual information.\n",
    "- patient – provides patient characteristics.\n",
    "\n",
    "Practically, the datasets should be joined via shared keys like station_ID, patient_id, and derived features like is_out_of_range, deviations, time-based aggregations can be added.\n",
    "\n",
    "\n",
    "\n"
   ]
  },
  {
   "cell_type": "markdown",
   "id": "01a51fe2-6b95-4a51-9b24-942524edf4e1",
   "metadata": {},
   "source": [
    "# 1.2 Problem identification, data integration and cleaning"
   ]
  },
  {
   "cell_type": "markdown",
   "id": "ec2d8136-dc00-4951-a21e-33ca47aec52d",
   "metadata": {},
   "source": [
    "# A)\n",
    "\n",
    "**Data structure and relationships**\n",
    "\n",
    "All files were successfully imported in CSV format with UTF-8-SIG encoding, preventing problems with special characters or accents. Column names contained occasional extra spaces or inconsistent dash symbols (\"–\", \"—\", \"-\"), which were standardized.\n",
    "\n",
    "The relationships between tables were verified:\n",
    "- patient.station_ID correctly links to stations in station.csv.\n",
    "- observation records can be matched to stations using geographical coordinates (latitude, longitude).\n",
    "\n",
    "The overall structure is coherent and ready for integration.\n",
    "\n",
    "**Missing or incomplete values**\n",
    "\n",
    "Several numeric columns contain missing (NaN) or zero-like placeholder values.\n",
    "\n",
    "**Duplicate records**\n",
    "\n",
    "The dataset was tested for duplicate rows using the df.duplicated().sum() function. No duplicate entries were found in any of the files.\n",
    "\n",
    "**Inconsistent data formats**\n",
    "\n",
    "Some numeric variables are stored as strings or contain non-numeric symbols, they were converted to proper numeric types using pd.to_numeric(errors=\"coerce\"). Text columns containing names, addresses, or codes were kept as strings.\n",
    "\n",
    "**Outliers**\n",
    "\n",
    "All numerical variables were compared with their reference limits from sensor_variable_range.csv. Every measurement fell within the prescribed physiological ranges (0% outside)."
   ]
  },
  {
   "cell_type": "code",
   "execution_count": null,
   "id": "32d53693-ae7b-428e-8809-629d395cf851",
   "metadata": {},
   "outputs": [],
   "source": [
    "dup_check = pd.DataFrame({\n",
    "    \"Dataset\": [\"patient\", \"station\", \"observation\"],\n",
    "    \"Duplicate Rows\": [\n",
    "        patient.duplicated().sum(),\n",
    "        station.duplicated().sum(),\n",
    "        observation.duplicated().sum()\n",
    "    ]\n",
    "})\n",
    "dup_check"
   ]
  }
 ],
 "metadata": {
  "kernelspec": {
   "display_name": "Python 3.12 (iua)",
   "language": "python",
   "name": "iua"
  },
  "language_info": {
   "codemirror_mode": {
    "name": "ipython",
    "version": 3
   },
   "file_extension": ".py",
   "mimetype": "text/x-python",
   "name": "python",
   "nbconvert_exporter": "python",
   "pygments_lexer": "ipython3",
   "version": "3.12.11"
  }
 },
 "nbformat": 4,
 "nbformat_minor": 5
}
